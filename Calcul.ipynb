{
 "cells": [
  {
   "cell_type": "code",
   "execution_count": 82,
   "id": "d44771f1",
   "metadata": {},
   "outputs": [],
   "source": [
    "import pandas as pd\n",
    "import matplotlib.pyplot as plt\n",
    "import numpy as np"
   ]
  },
  {
   "cell_type": "code",
   "execution_count": 71,
   "id": "83c0d7a7",
   "metadata": {},
   "outputs": [],
   "source": [
    "# Lire les csv exportés de notre base de données (AirTable)\n",
    "BASE_DIR = 'Resources/'\n",
    "\n",
    "land = pd.read_csv(BASE_DIR + 'type de sol-Grid view.csv')\n",
    "plant = pd.read_csv(BASE_DIR+ 'BasePlants-All projects.csv')\n",
    "rain = pd.read_csv(BASE_DIR+ 'Précipitation2022-Grid view.csv')\n",
    "\n",
    "##############\n",
    "# DataFrames #\n",
    "# ############\n",
    "# plant\n",
    "# land\n",
    "# rain"
   ]
  },
  {
   "cell_type": "code",
   "execution_count": 5,
   "id": "b53f0346",
   "metadata": {},
   "outputs": [
    {
     "data": {
      "text/html": [
       "<div>\n",
       "<style scoped>\n",
       "    .dataframe tbody tr th:only-of-type {\n",
       "        vertical-align: middle;\n",
       "    }\n",
       "\n",
       "    .dataframe tbody tr th {\n",
       "        vertical-align: top;\n",
       "    }\n",
       "\n",
       "    .dataframe thead th {\n",
       "        text-align: right;\n",
       "    }\n",
       "</style>\n",
       "<table border=\"1\" class=\"dataframe\">\n",
       "  <thead>\n",
       "    <tr style=\"text-align: right;\">\n",
       "      <th></th>\n",
       "      <th>Plantes</th>\n",
       "      <th>besoin en eau (m³/ha)</th>\n",
       "      <th>Durée ( en jours )</th>\n",
       "      <th>Racine (m)</th>\n",
       "      <th>Kc</th>\n",
       "      <th>ETRef (mm)</th>\n",
       "      <th>besoin en eau annuel (m³/ha)</th>\n",
       "      <th>Précision</th>\n",
       "    </tr>\n",
       "  </thead>\n",
       "  <tbody>\n",
       "    <tr>\n",
       "      <th>0</th>\n",
       "      <td>Le blé</td>\n",
       "      <td>5500</td>\n",
       "      <td>270</td>\n",
       "      <td>1.50</td>\n",
       "      <td>0.90</td>\n",
       "      <td>4.0</td>\n",
       "      <td>NaN</td>\n",
       "      <td>NaN</td>\n",
       "    </tr>\n",
       "    <tr>\n",
       "      <th>1</th>\n",
       "      <td>La betterave sucrière</td>\n",
       "      <td>6500</td>\n",
       "      <td>60</td>\n",
       "      <td>0.35</td>\n",
       "      <td>0.80</td>\n",
       "      <td>4.0</td>\n",
       "      <td>NaN</td>\n",
       "      <td>NaN</td>\n",
       "    </tr>\n",
       "    <tr>\n",
       "      <th>2</th>\n",
       "      <td>Le tournesol</td>\n",
       "      <td>1000</td>\n",
       "      <td>130</td>\n",
       "      <td>2.00</td>\n",
       "      <td>0.60</td>\n",
       "      <td>4.0</td>\n",
       "      <td>2800.0</td>\n",
       "      <td>NaN</td>\n",
       "    </tr>\n",
       "    <tr>\n",
       "      <th>3</th>\n",
       "      <td>Le soja</td>\n",
       "      <td>6370</td>\n",
       "      <td>130</td>\n",
       "      <td>1.00</td>\n",
       "      <td>0.70</td>\n",
       "      <td>4.0</td>\n",
       "      <td>NaN</td>\n",
       "      <td>NaN</td>\n",
       "    </tr>\n",
       "    <tr>\n",
       "      <th>4</th>\n",
       "      <td>Le maïs</td>\n",
       "      <td>4000</td>\n",
       "      <td>180</td>\n",
       "      <td>0.45</td>\n",
       "      <td>0.80</td>\n",
       "      <td>4.0</td>\n",
       "      <td>8100.0</td>\n",
       "      <td>NaN</td>\n",
       "    </tr>\n",
       "    <tr>\n",
       "      <th>5</th>\n",
       "      <td>Le sorgho</td>\n",
       "      <td>4750</td>\n",
       "      <td>130</td>\n",
       "      <td>1.00</td>\n",
       "      <td>0.85</td>\n",
       "      <td>4.0</td>\n",
       "      <td>13330.0</td>\n",
       "      <td>NaN</td>\n",
       "    </tr>\n",
       "    <tr>\n",
       "      <th>6</th>\n",
       "      <td>Les Vignes</td>\n",
       "      <td>2150</td>\n",
       "      <td>335</td>\n",
       "      <td>3.00</td>\n",
       "      <td>0.55</td>\n",
       "      <td>4.0</td>\n",
       "      <td>NaN</td>\n",
       "      <td>Le sol le plus adapté à la vigne sera pierreux...</td>\n",
       "    </tr>\n",
       "  </tbody>\n",
       "</table>\n",
       "</div>"
      ],
      "text/plain": [
       "                 Plantes  besoin en eau (m³/ha)  Durée ( en jours )  \\\n",
       "0                Le blé                    5500                 270   \n",
       "1  La betterave sucrière                   6500                  60   \n",
       "2           Le tournesol                   1000                 130   \n",
       "3               Le soja                    6370                 130   \n",
       "4                Le maïs                   4000                 180   \n",
       "5              Le sorgho                   4750                 130   \n",
       "6            Les Vignes                    2150                 335   \n",
       "\n",
       "   Racine (m)    Kc  ETRef (mm)  besoin en eau annuel (m³/ha)  \\\n",
       "0        1.50  0.90         4.0                           NaN   \n",
       "1        0.35  0.80         4.0                           NaN   \n",
       "2        2.00  0.60         4.0                        2800.0   \n",
       "3        1.00  0.70         4.0                           NaN   \n",
       "4        0.45  0.80         4.0                        8100.0   \n",
       "5        1.00  0.85         4.0                       13330.0   \n",
       "6        3.00  0.55         4.0                           NaN   \n",
       "\n",
       "                                           Précision  \n",
       "0                                                NaN  \n",
       "1                                                NaN  \n",
       "2                                                NaN  \n",
       "3                                                NaN  \n",
       "4                                                NaN  \n",
       "5                                                NaN  \n",
       "6  Le sol le plus adapté à la vigne sera pierreux...  "
      ]
     },
     "execution_count": 5,
     "metadata": {},
     "output_type": "execute_result"
    }
   ],
   "source": [
    "plant"
   ]
  },
  {
   "cell_type": "code",
   "execution_count": 3,
   "id": "4be7c9fa",
   "metadata": {},
   "outputs": [
    {
     "data": {
      "text/html": [
       "<div>\n",
       "<style scoped>\n",
       "    .dataframe tbody tr th:only-of-type {\n",
       "        vertical-align: middle;\n",
       "    }\n",
       "\n",
       "    .dataframe tbody tr th {\n",
       "        vertical-align: top;\n",
       "    }\n",
       "\n",
       "    .dataframe thead th {\n",
       "        text-align: right;\n",
       "    }\n",
       "</style>\n",
       "<table border=\"1\" class=\"dataframe\">\n",
       "  <thead>\n",
       "    <tr style=\"text-align: right;\">\n",
       "      <th></th>\n",
       "      <th>Type de sol</th>\n",
       "      <th>RU (Réserve Utile d'eau)</th>\n",
       "      <th>Notes</th>\n",
       "    </tr>\n",
       "  </thead>\n",
       "  <tbody>\n",
       "    <tr>\n",
       "      <th>0</th>\n",
       "      <td>Argiles</td>\n",
       "      <td>1.85</td>\n",
       "      <td>Retiens de façon efficace l'eau / une terre du...</td>\n",
       "    </tr>\n",
       "    <tr>\n",
       "      <th>1</th>\n",
       "      <td>Limons</td>\n",
       "      <td>1.80</td>\n",
       "      <td>Intermédiarie entre argiles et sables</td>\n",
       "    </tr>\n",
       "    <tr>\n",
       "      <th>2</th>\n",
       "      <td>Sables</td>\n",
       "      <td>0.70</td>\n",
       "      <td>Séchent facilement donc les apports doivent êt...</td>\n",
       "    </tr>\n",
       "    <tr>\n",
       "      <th>3</th>\n",
       "      <td>Argiles - sableuses</td>\n",
       "      <td>1.65</td>\n",
       "      <td>NaN</td>\n",
       "    </tr>\n",
       "    <tr>\n",
       "      <th>4</th>\n",
       "      <td>Argiles - limoneux</td>\n",
       "      <td>1.95</td>\n",
       "      <td>NaN</td>\n",
       "    </tr>\n",
       "    <tr>\n",
       "      <th>5</th>\n",
       "      <td>Limons - sableux</td>\n",
       "      <td>1.25</td>\n",
       "      <td>NaN</td>\n",
       "    </tr>\n",
       "    <tr>\n",
       "      <th>6</th>\n",
       "      <td>Argiles - sablo - limoneux</td>\n",
       "      <td>1.70</td>\n",
       "      <td>NaN</td>\n",
       "    </tr>\n",
       "    <tr>\n",
       "      <th>7</th>\n",
       "      <td>NaN</td>\n",
       "      <td>NaN</td>\n",
       "      <td>Plus le sol est sableux, plus l’infiltration e...</td>\n",
       "    </tr>\n",
       "    <tr>\n",
       "      <th>8</th>\n",
       "      <td>NaN</td>\n",
       "      <td>NaN</td>\n",
       "      <td>plus le sol est argileux, plus il retient l’eau</td>\n",
       "    </tr>\n",
       "  </tbody>\n",
       "</table>\n",
       "</div>"
      ],
      "text/plain": [
       "                  Type de sol  RU (Réserve Utile d'eau)  \\\n",
       "0                     Argiles                      1.85   \n",
       "1                      Limons                      1.80   \n",
       "2                      Sables                      0.70   \n",
       "3         Argiles - sableuses                      1.65   \n",
       "4          Argiles - limoneux                      1.95   \n",
       "5            Limons - sableux                      1.25   \n",
       "6  Argiles - sablo - limoneux                      1.70   \n",
       "7                         NaN                       NaN   \n",
       "8                         NaN                       NaN   \n",
       "\n",
       "                                               Notes  \n",
       "0  Retiens de façon efficace l'eau / une terre du...  \n",
       "1              Intermédiarie entre argiles et sables  \n",
       "2  Séchent facilement donc les apports doivent êt...  \n",
       "3                                                NaN  \n",
       "4                                                NaN  \n",
       "5                                                NaN  \n",
       "6                                                NaN  \n",
       "7  Plus le sol est sableux, plus l’infiltration e...  \n",
       "8    plus le sol est argileux, plus il retient l’eau  "
      ]
     },
     "execution_count": 3,
     "metadata": {},
     "output_type": "execute_result"
    }
   ],
   "source": [
    "land"
   ]
  },
  {
   "cell_type": "code",
   "execution_count": 72,
   "id": "ed211461",
   "metadata": {},
   "outputs": [
    {
     "data": {
      "text/html": [
       "<div>\n",
       "<style scoped>\n",
       "    .dataframe tbody tr th:only-of-type {\n",
       "        vertical-align: middle;\n",
       "    }\n",
       "\n",
       "    .dataframe tbody tr th {\n",
       "        vertical-align: top;\n",
       "    }\n",
       "\n",
       "    .dataframe thead th {\n",
       "        text-align: right;\n",
       "    }\n",
       "</style>\n",
       "<table border=\"1\" class=\"dataframe\">\n",
       "  <thead>\n",
       "    <tr style=\"text-align: right;\">\n",
       "      <th></th>\n",
       "      <th>Mois</th>\n",
       "      <th>Précipitations</th>\n",
       "    </tr>\n",
       "  </thead>\n",
       "  <tbody>\n",
       "    <tr>\n",
       "      <th>0</th>\n",
       "      <td>1</td>\n",
       "      <td>39.6</td>\n",
       "    </tr>\n",
       "    <tr>\n",
       "      <th>1</th>\n",
       "      <td>2</td>\n",
       "      <td>48.9</td>\n",
       "    </tr>\n",
       "    <tr>\n",
       "      <th>2</th>\n",
       "      <td>3</td>\n",
       "      <td>34.4</td>\n",
       "    </tr>\n",
       "    <tr>\n",
       "      <th>3</th>\n",
       "      <td>4</td>\n",
       "      <td>62.4</td>\n",
       "    </tr>\n",
       "    <tr>\n",
       "      <th>4</th>\n",
       "      <td>5</td>\n",
       "      <td>19.1</td>\n",
       "    </tr>\n",
       "    <tr>\n",
       "      <th>5</th>\n",
       "      <td>6</td>\n",
       "      <td>99.8</td>\n",
       "    </tr>\n",
       "    <tr>\n",
       "      <th>6</th>\n",
       "      <td>7</td>\n",
       "      <td>3.0</td>\n",
       "    </tr>\n",
       "    <tr>\n",
       "      <th>7</th>\n",
       "      <td>8</td>\n",
       "      <td>26.3</td>\n",
       "    </tr>\n",
       "    <tr>\n",
       "      <th>8</th>\n",
       "      <td>9</td>\n",
       "      <td>39.4</td>\n",
       "    </tr>\n",
       "    <tr>\n",
       "      <th>9</th>\n",
       "      <td>10</td>\n",
       "      <td>6.4</td>\n",
       "    </tr>\n",
       "    <tr>\n",
       "      <th>10</th>\n",
       "      <td>11</td>\n",
       "      <td>NaN</td>\n",
       "    </tr>\n",
       "    <tr>\n",
       "      <th>11</th>\n",
       "      <td>12</td>\n",
       "      <td>NaN</td>\n",
       "    </tr>\n",
       "  </tbody>\n",
       "</table>\n",
       "</div>"
      ],
      "text/plain": [
       "    Mois  Précipitations\n",
       "0      1            39.6\n",
       "1      2            48.9\n",
       "2      3            34.4\n",
       "3      4            62.4\n",
       "4      5            19.1\n",
       "5      6            99.8\n",
       "6      7             3.0\n",
       "7      8            26.3\n",
       "8      9            39.4\n",
       "9     10             6.4\n",
       "10    11             NaN\n",
       "11    12             NaN"
      ]
     },
     "execution_count": 72,
     "metadata": {},
     "output_type": "execute_result"
    }
   ],
   "source": [
    "rain"
   ]
  },
  {
   "cell_type": "code",
   "execution_count": 106,
   "id": "84ffce44",
   "metadata": {},
   "outputs": [],
   "source": [
    "##############\n",
    "# Formulaire #\n",
    "##############\n",
    "# Tous les variables qui commencent par 'enter_' sont les données de formulaire par utilisateur\n",
    "\n",
    "enter_plant = \"Le maïs\"\n",
    "enter_land = \"Argiles\"\n",
    "enter_nb_day=150\n",
    "enter_surface = 15689 # m2"
   ]
  },
  {
   "cell_type": "code",
   "execution_count": 105,
   "id": "8f5b5e36",
   "metadata": {},
   "outputs": [],
   "source": [
    "# Simulation - recherche la donnée\n",
    "plant_searched = plant.loc[plant['Plantes'] == enter_plant]"
   ]
  },
  {
   "cell_type": "code",
   "execution_count": 7,
   "id": "492f2c8f",
   "metadata": {},
   "outputs": [
    {
     "data": {
      "text/html": [
       "<div>\n",
       "<style scoped>\n",
       "    .dataframe tbody tr th:only-of-type {\n",
       "        vertical-align: middle;\n",
       "    }\n",
       "\n",
       "    .dataframe tbody tr th {\n",
       "        vertical-align: top;\n",
       "    }\n",
       "\n",
       "    .dataframe thead th {\n",
       "        text-align: right;\n",
       "    }\n",
       "</style>\n",
       "<table border=\"1\" class=\"dataframe\">\n",
       "  <thead>\n",
       "    <tr style=\"text-align: right;\">\n",
       "      <th></th>\n",
       "      <th>Plantes</th>\n",
       "      <th>besoin en eau (m³/ha)</th>\n",
       "      <th>Durée ( en jours )</th>\n",
       "      <th>Racine (m)</th>\n",
       "      <th>Kc</th>\n",
       "      <th>ETRef (mm)</th>\n",
       "      <th>besoin en eau annuel (m³/ha)</th>\n",
       "      <th>Précision</th>\n",
       "    </tr>\n",
       "  </thead>\n",
       "  <tbody>\n",
       "    <tr>\n",
       "      <th>4</th>\n",
       "      <td>Le maïs</td>\n",
       "      <td>4000</td>\n",
       "      <td>180</td>\n",
       "      <td>0.45</td>\n",
       "      <td>0.8</td>\n",
       "      <td>4.0</td>\n",
       "      <td>8100.0</td>\n",
       "      <td>NaN</td>\n",
       "    </tr>\n",
       "  </tbody>\n",
       "</table>\n",
       "</div>"
      ],
      "text/plain": [
       "   Plantes  besoin en eau (m³/ha)  Durée ( en jours )  Racine (m)   Kc  \\\n",
       "4  Le maïs                   4000                 180        0.45  0.8   \n",
       "\n",
       "   ETRef (mm)  besoin en eau annuel (m³/ha) Précision  \n",
       "4         4.0                        8100.0       NaN  "
      ]
     },
     "execution_count": 7,
     "metadata": {},
     "output_type": "execute_result"
    }
   ],
   "source": [
    "plant_searched"
   ]
  },
  {
   "cell_type": "code",
   "execution_count": 8,
   "id": "88b6c7e7",
   "metadata": {},
   "outputs": [],
   "source": [
    "# Simulation - recherche la donnée\n",
    "land_searched = land.loc[land['Type de sol'] == enter_land]"
   ]
  },
  {
   "cell_type": "code",
   "execution_count": 9,
   "id": "4e55467f",
   "metadata": {},
   "outputs": [
    {
     "data": {
      "text/html": [
       "<div>\n",
       "<style scoped>\n",
       "    .dataframe tbody tr th:only-of-type {\n",
       "        vertical-align: middle;\n",
       "    }\n",
       "\n",
       "    .dataframe tbody tr th {\n",
       "        vertical-align: top;\n",
       "    }\n",
       "\n",
       "    .dataframe thead th {\n",
       "        text-align: right;\n",
       "    }\n",
       "</style>\n",
       "<table border=\"1\" class=\"dataframe\">\n",
       "  <thead>\n",
       "    <tr style=\"text-align: right;\">\n",
       "      <th></th>\n",
       "      <th>Type de sol</th>\n",
       "      <th>RU (Réserve Utile d'eau)</th>\n",
       "      <th>Notes</th>\n",
       "    </tr>\n",
       "  </thead>\n",
       "  <tbody>\n",
       "    <tr>\n",
       "      <th>0</th>\n",
       "      <td>Argiles</td>\n",
       "      <td>1.85</td>\n",
       "      <td>Retiens de façon efficace l'eau / une terre du...</td>\n",
       "    </tr>\n",
       "  </tbody>\n",
       "</table>\n",
       "</div>"
      ],
      "text/plain": [
       "  Type de sol  RU (Réserve Utile d'eau)  \\\n",
       "0     Argiles                      1.85   \n",
       "\n",
       "                                               Notes  \n",
       "0  Retiens de façon efficace l'eau / une terre du...  "
      ]
     },
     "execution_count": 9,
     "metadata": {},
     "output_type": "execute_result"
    }
   ],
   "source": [
    "land_searched"
   ]
  },
  {
   "cell_type": "code",
   "execution_count": 10,
   "id": "5081f7ff",
   "metadata": {},
   "outputs": [],
   "source": [
    "rain_from_2010 = rain.loc[rain['Année']>=2010]"
   ]
  },
  {
   "cell_type": "code",
   "execution_count": 11,
   "id": "1bfe350b",
   "metadata": {},
   "outputs": [
    {
     "data": {
      "text/html": [
       "<div>\n",
       "<style scoped>\n",
       "    .dataframe tbody tr th:only-of-type {\n",
       "        vertical-align: middle;\n",
       "    }\n",
       "\n",
       "    .dataframe tbody tr th {\n",
       "        vertical-align: top;\n",
       "    }\n",
       "\n",
       "    .dataframe thead th {\n",
       "        text-align: right;\n",
       "    }\n",
       "</style>\n",
       "<table border=\"1\" class=\"dataframe\">\n",
       "  <thead>\n",
       "    <tr style=\"text-align: right;\">\n",
       "      <th></th>\n",
       "      <th>Année</th>\n",
       "      <th>Précipitations</th>\n",
       "    </tr>\n",
       "  </thead>\n",
       "  <tbody>\n",
       "    <tr>\n",
       "      <th>10</th>\n",
       "      <td>2010</td>\n",
       "      <td>762.8</td>\n",
       "    </tr>\n",
       "    <tr>\n",
       "      <th>11</th>\n",
       "      <td>2011</td>\n",
       "      <td>579.7</td>\n",
       "    </tr>\n",
       "    <tr>\n",
       "      <th>12</th>\n",
       "      <td>2012</td>\n",
       "      <td>814.3</td>\n",
       "    </tr>\n",
       "    <tr>\n",
       "      <th>13</th>\n",
       "      <td>2013</td>\n",
       "      <td>1027.5</td>\n",
       "    </tr>\n",
       "    <tr>\n",
       "      <th>14</th>\n",
       "      <td>2014</td>\n",
       "      <td>945.2</td>\n",
       "    </tr>\n",
       "    <tr>\n",
       "      <th>15</th>\n",
       "      <td>2015</td>\n",
       "      <td>559.4</td>\n",
       "    </tr>\n",
       "    <tr>\n",
       "      <th>16</th>\n",
       "      <td>2016</td>\n",
       "      <td>1040.0</td>\n",
       "    </tr>\n",
       "    <tr>\n",
       "      <th>17</th>\n",
       "      <td>2017</td>\n",
       "      <td>762.3</td>\n",
       "    </tr>\n",
       "    <tr>\n",
       "      <th>18</th>\n",
       "      <td>2018</td>\n",
       "      <td>763.1</td>\n",
       "    </tr>\n",
       "    <tr>\n",
       "      <th>19</th>\n",
       "      <td>2019</td>\n",
       "      <td>971.8</td>\n",
       "    </tr>\n",
       "    <tr>\n",
       "      <th>20</th>\n",
       "      <td>2020</td>\n",
       "      <td>1149.6</td>\n",
       "    </tr>\n",
       "    <tr>\n",
       "      <th>21</th>\n",
       "      <td>2021</td>\n",
       "      <td>884.0</td>\n",
       "    </tr>\n",
       "    <tr>\n",
       "      <th>22</th>\n",
       "      <td>2022</td>\n",
       "      <td>379.3</td>\n",
       "    </tr>\n",
       "  </tbody>\n",
       "</table>\n",
       "</div>"
      ],
      "text/plain": [
       "    Année  Précipitations\n",
       "10   2010           762.8\n",
       "11   2011           579.7\n",
       "12   2012           814.3\n",
       "13   2013          1027.5\n",
       "14   2014           945.2\n",
       "15   2015           559.4\n",
       "16   2016          1040.0\n",
       "17   2017           762.3\n",
       "18   2018           763.1\n",
       "19   2019           971.8\n",
       "20   2020          1149.6\n",
       "21   2021           884.0\n",
       "22   2022           379.3"
      ]
     },
     "execution_count": 11,
     "metadata": {},
     "output_type": "execute_result"
    }
   ],
   "source": [
    "# Précipitations à Mérignac (2010 - 2022)\n",
    "rain_from_2010"
   ]
  },
  {
   "cell_type": "code",
   "execution_count": 12,
   "id": "11426ee0",
   "metadata": {},
   "outputs": [],
   "source": [
    "# Getteur plant, land objet par son nom\n",
    "def get_plant(enter_plant):    \n",
    "    return plant.loc[plant['Plantes'] == enter_plant]\n",
    "\n",
    "def get_land(enter_land):\n",
    "    return land.loc[land['Type de sol'] == enter_land]"
   ]
  },
  {
   "cell_type": "code",
   "execution_count": 103,
   "id": "9310d15e",
   "metadata": {},
   "outputs": [],
   "source": [
    "# Getteur les attributs 'Plantes','Durée en jours','ru - réserve utile d'eau, 'pr - profondeur racine', 'besoin en eau' par Getteur plant, land objet\n",
    "def get_duration(enter_plant):\n",
    "    return get_plant(enter_plant)[\"Durée ( en jours )\"]\n",
    "\n",
    "def get_name(enter_plant):\n",
    "    return get_plant(enter_plant)[\"Plantes\"]    \n",
    "\n",
    "def get_pr(enter_plant):\n",
    "    return float(get_plant(enter_plant)[\"Racine (m)\"])\n",
    "    \n",
    "def get_ru(enter_land):\n",
    "    return float(get_land(enter_land)[\"RU (Réserve Utile d'eau)\"])\n",
    "\n",
    "def get_need_water(enter_plant):\n",
    "    return float(get_plant(enter_plant)[\"besoin en eau\"])"
   ]
  },
  {
   "cell_type": "code",
   "execution_count": 107,
   "id": "92123fed",
   "metadata": {},
   "outputs": [
    {
     "data": {
      "text/plain": [
       "0.45"
      ]
     },
     "execution_count": 107,
     "metadata": {},
     "output_type": "execute_result"
    }
   ],
   "source": [
    "get_pr(\"Le maïs\")"
   ]
  },
  {
   "cell_type": "code",
   "execution_count": 108,
   "id": "0ce21d36",
   "metadata": {},
   "outputs": [
    {
     "data": {
      "text/plain": [
       "1.85"
      ]
     },
     "execution_count": 108,
     "metadata": {},
     "output_type": "execute_result"
    }
   ],
   "source": [
    "get_ru(\"Argiles\")"
   ]
  },
  {
   "cell_type": "code",
   "execution_count": 109,
   "id": "24a3fc71",
   "metadata": {},
   "outputs": [],
   "source": [
    "# 1. Stockage d'eau (m -> mm)\n",
    "def stock_water(ru, pr):\n",
    "    return pr*(2/3)*ru*1000\n",
    "\n",
    "# (/10000 : m2 -> h)\n",
    "def volume_stock(stock_water,enter_surface):\n",
    "    return stock_water*(enter_surface/10000)*10"
   ]
  },
  {
   "cell_type": "code",
   "execution_count": 116,
   "id": "58ad74cd",
   "metadata": {},
   "outputs": [
    {
     "name": "stdout",
     "output_type": "stream",
     "text": [
      "stockage d'eau : 555.0 mm\n",
      "volume de stockage : 8707.395 m3\n"
     ]
    }
   ],
   "source": [
    "corn_pr = get_pr(\"Le maïs\")\n",
    "argiles_ru = get_ru(\"Argiles\")\n",
    "\n",
    "stock = stock_water(corn_pr, argiles_ru)\n",
    "current_volume = volume_stock(stock, enter_surface)\n",
    "\n",
    "##########\n",
    "# Result #\n",
    "##########\n",
    "\n",
    "print(\"stockage d'eau : \" +str(stock) + \" mm\")\n",
    "print(\"volume de stockage : \" +str(current_volume) + \" m3\")"
   ]
  },
  {
   "cell_type": "code",
   "execution_count": 65,
   "id": "9d37816c",
   "metadata": {},
   "outputs": [],
   "source": [
    "# 2. User saisit le nombre de jour lors de remplir le formulaire\n",
    "def need_of_water(enter_nb_day, kc, etref):\n",
    "    return float(enter_nb_day*kc*etref)\n",
    "\n",
    "def get_kc(enter_plant):\n",
    "    return float(get_plant(enter_plant)[\"Kc\"])\n",
    "\n",
    "def get_etref(enter_plant):\n",
    "    return float(get_plant(enter_plant)[\"ETRef (mm)\"])"
   ]
  },
  {
   "cell_type": "code",
   "execution_count": 111,
   "id": "fef07912",
   "metadata": {},
   "outputs": [
    {
     "name": "stdout",
     "output_type": "stream",
     "text": [
      "480.0 mm\n"
     ]
    }
   ],
   "source": [
    "kc = get_kc(\"Le maïs\")\n",
    "etref = get_etref(\"Le maïs\")\n",
    "\n",
    "water = need_of_water(enter_nb_day,kc,etref)\n",
    "surface = enter_surface/10000 \n",
    "\n",
    "##########\n",
    "# Result #\n",
    "##########\n",
    "\n",
    "print(str(water) + \" mm\") \n",
    "# 1 mm = 10 m3/ha"
   ]
  },
  {
   "cell_type": "code",
   "execution_count": 67,
   "id": "34b5afa7",
   "metadata": {},
   "outputs": [],
   "source": [
    "# 3. Volumne d'eau nécessaire\n",
    "\n",
    "def volume_need_for_plant(water,enter_surface):\n",
    "    \n",
    "    return water*(enter_surface/10000)*10"
   ]
  },
  {
   "cell_type": "code",
   "execution_count": 112,
   "id": "1392cb48",
   "metadata": {},
   "outputs": [
    {
     "name": "stdout",
     "output_type": "stream",
     "text": [
      "7530.72 m3\n"
     ]
    }
   ],
   "source": [
    "needed_plant_volume = volume_need_for_plant(water, enter_surface)\n",
    "\n",
    "##########\n",
    "# Result #\n",
    "##########\n",
    "\n",
    "print(str(needed_plant_volume) + \" m3\")"
   ]
  },
  {
   "cell_type": "code",
   "execution_count": 113,
   "id": "4f047841",
   "metadata": {},
   "outputs": [],
   "source": [
    "# -- Comparaison -- (1) volume_stock , (3) volume_need_for_plant \n",
    "# (4) Checker pour l'irrigation si besoin\n",
    "\n",
    "def check_irrigation_needed(current_volume,needed_plant_volume):\n",
    "    if(current_volume < needed_plant_volume):\n",
    "        return True\n",
    "    else:\n",
    "        return False"
   ]
  },
  {
   "cell_type": "code",
   "execution_count": 114,
   "id": "0a8c1a43",
   "metadata": {},
   "outputs": [
    {
     "name": "stdout",
     "output_type": "stream",
     "text": [
      "Pas besoin d'irriguer\n"
     ]
    }
   ],
   "source": [
    "if check_irrigation_needed(current_volume,needed_plant_volume):\n",
    "    print(\"Il faut arroser\")\n",
    "else:\n",
    "    print(\"Pas besoin d'irriguer\")"
   ]
  },
  {
   "cell_type": "code",
   "execution_count": 115,
   "id": "cb6f44fd",
   "metadata": {},
   "outputs": [
    {
     "data": {
      "image/png": "[encoded data removed]",
      "text/plain": [
       "<Figure size 432x288 with 1 Axes>"
      ]
     },
     "metadata": {
      "needs_background": "light"
     },
     "output_type": "display_data"
    }
   ],
   "source": [
    "# (5) Précipitations mensuelles 2022\n",
    "\n",
    "rain_graph = rain.plot(x=\"Mois\", y=[\"Précipitations\"])\n",
    "rain_graph.set_ylabel(\"mm\")\n",
    "rain_graph.grid(color = 'green', linestyle = '--', linewidth = 0.3)"
   ]
  },
  {
   "cell_type": "code",
   "execution_count": null,
   "id": "9613f16f",
   "metadata": {},
   "outputs": [],
   "source": [
    "# En moyen, \"{get_name(enter_plant)}\" consomme \"{get_need_water(enter_plant)}\" (m³/ha) \n",
    "# et dure \"{get_duration(enter_plant)}\" jour(s)."
   ]
  }
 ],
 "metadata": {
  "kernelspec": {
   "display_name": "Python 3 (ipykernel)",
   "language": "python",
   "name": "python3"
  },
  "language_info": {
   "codemirror_mode": {
    "name": "ipython",
    "version": 3
   },
   "file_extension": ".py",
   "mimetype": "text/x-python",
   "name": "python",
   "nbconvert_exporter": "python",
   "pygments_lexer": "ipython3",
   "version": "3.9.7"
  }
 },
 "nbformat": 4,
 "nbformat_minor": 5
}
